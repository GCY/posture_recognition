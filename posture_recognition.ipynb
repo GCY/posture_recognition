{
 "cells": [
  {
   "cell_type": "code",
   "execution_count": 14,
   "metadata": {
    "collapsed": false
   },
   "outputs": [],
   "source": [
    "from keras.layers import Dense, Dropout, Activation\n",
    "from keras.models import Sequential\n",
    "from keras.optimizers import SGD, Adam\n",
    "import numpy as np\n",
    "import datetime"
   ]
  },
  {
   "cell_type": "code",
   "execution_count": 2,
   "metadata": {
    "collapsed": true
   },
   "outputs": [],
   "source": [
    "#train data\n",
    "x_train = []\n",
    "y_train = []\n",
    "train_file = open('data/posture_train.txt', 'r')\n",
    "angle=[]\n",
    "target=[]\n",
    "for line in train_file.readlines():\n",
    "    row = line.split()\n",
    "    angle.append(np.array([float(x) for x in row[:4]]))\n",
    "    target.append(np.array([float(y) for y in row[4:]]))\n",
    "train_file.close()\n",
    "x_train = np.array(angle)\n",
    "y_train = np.array(target)\n",
    "\n",
    "#test data\n",
    "x_test = []\n",
    "y_test = []\n",
    "test_file = open('data/posture_test.txt', 'r')\n",
    "angle=[]\n",
    "target=[]\n",
    "for line in test_file.readlines():\n",
    "    row = line.split()\n",
    "    angle.append(np.array([float(x) for x in row[:4]]))\n",
    "    target.append(np.array([float(y) for y in row[4:]]))\n",
    "test_file.close()\n",
    "x_test = np.array(angle)\n",
    "y_test = np.array(target)"
   ]
  },
  {
   "cell_type": "code",
   "execution_count": 5,
   "metadata": {
    "collapsed": true
   },
   "outputs": [],
   "source": [
    "#model\n",
    "model = Sequential()\n",
    "model.add(Dense(input_dim=4, output_dim=1000))\n",
    "model.add(Activation('sigmoid'))\n",
    "model.add(Dense(output_dim=1000))\n",
    "model.add(Activation('sigmoid'))\n",
    "model.add(Dense(output_dim=9))\n",
    "model.add(Activation('softmax'))\n",
    "\n",
    "model.compile(loss='categorical_crossentropy',\n",
    "              optimizer=Adam(),\n",
    "              metrics=['accuracy'])"
   ]
  },
  {
   "cell_type": "code",
   "execution_count": 27,
   "metadata": {
    "collapsed": false
   },
   "outputs": [
    {
     "name": "stdout",
     "output_type": "stream",
     "text": [
      "Epoch 1/10\n",
      "18000/18000 [==============================] - 1s - loss: 0.0596 - acc: 0.9761     \n",
      "Epoch 2/10\n",
      "18000/18000 [==============================] - 1s - loss: 0.0597 - acc: 0.9769     \n",
      "Epoch 3/10\n",
      "18000/18000 [==============================] - 1s - loss: 0.0560 - acc: 0.9771     \n",
      "Epoch 4/10\n",
      "18000/18000 [==============================] - 1s - loss: 0.0560 - acc: 0.9772     \n",
      "Epoch 5/10\n",
      "18000/18000 [==============================] - 1s - loss: 0.0551 - acc: 0.9773     \n",
      "Epoch 6/10\n",
      "18000/18000 [==============================] - 1s - loss: 0.0569 - acc: 0.9764     \n",
      "Epoch 7/10\n",
      "18000/18000 [==============================] - 1s - loss: 0.0543 - acc: 0.9777     \n",
      "Epoch 8/10\n",
      "18000/18000 [==============================] - 1s - loss: 0.0550 - acc: 0.9773     \n",
      "Epoch 9/10\n",
      "18000/18000 [==============================] - 1s - loss: 0.0611 - acc: 0.9751     \n",
      "Epoch 10/10\n",
      "18000/18000 [==============================] - 1s - loss: 0.0523 - acc: 0.9789     \n"
     ]
    },
    {
     "data": {
      "text/plain": [
       "<keras.callbacks.History at 0x1af25c0>"
      ]
     },
     "execution_count": 27,
     "metadata": {},
     "output_type": "execute_result"
    }
   ],
   "source": [
    "model.fit(x_train, y_train, batch_size=200, nb_epoch=10)"
   ]
  },
  {
   "cell_type": "code",
   "execution_count": 28,
   "metadata": {
    "collapsed": false
   },
   "outputs": [
    {
     "name": "stdout",
     "output_type": "stream",
     "text": [
      "Test score: 0.045723815645\n",
      "Test accuracy: 0.9787\n"
     ]
    }
   ],
   "source": [
    "score = model.evaluate(x_test, y_test, verbose=0)\n",
    "print('Test score:', score[0])\n",
    "print('Test accuracy:', round(score[1], 4))"
   ]
  },
  {
   "cell_type": "code",
   "execution_count": 24,
   "metadata": {
    "collapsed": false
   },
   "outputs": [],
   "source": [
    "model_result = model.to_json()\n",
    "time = datetime.datetime.now().strftime(\"%Y%m%d%H%M%S\")\n",
    "accuracy = str(int(score[1]*10000))\n",
    "filename = 'model_{0}_acc{1}.json'.format(time, accuracy)\n",
    "with open('result/'+filename, 'w') as file:\n",
    "    file.write(model_result)\n",
    "    file.close()"
   ]
  }
 ],
 "metadata": {
  "kernelspec": {
   "display_name": "Python 3",
   "language": "python",
   "name": "python3"
  },
  "language_info": {
   "codemirror_mode": {
    "name": "ipython",
    "version": 3
   },
   "file_extension": ".py",
   "mimetype": "text/x-python",
   "name": "python",
   "nbconvert_exporter": "python",
   "pygments_lexer": "ipython3",
   "version": "3.4.4"
  }
 },
 "nbformat": 4,
 "nbformat_minor": 0
}
