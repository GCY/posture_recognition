{
 "cells": [
  {
   "cell_type": "code",
   "execution_count": 1,
   "metadata": {
    "collapsed": false
   },
   "outputs": [
    {
     "name": "stderr",
     "output_type": "stream",
     "text": [
      "Using Theano backend.\n",
      "Using gpu device 0: GeForce GTX 960 (CNMeM is disabled, cuDNN 5005)\n"
     ]
    }
   ],
   "source": [
    "import datetime\n",
    "\n",
    "import numpy as np\n",
    "import pandas as pd\n",
    "\n",
    "from keras.layers import Dense, Dropout, Activation\n",
    "from keras.models import Sequential\n",
    "from keras.optimizers import SGD, Adam"
   ]
  },
  {
   "cell_type": "code",
   "execution_count": 2,
   "metadata": {
    "collapsed": false
   },
   "outputs": [
    {
     "data": {
      "text/html": [
       "<div>\n",
       "<table border=\"1\" class=\"dataframe\">\n",
       "  <thead>\n",
       "    <tr style=\"text-align: right;\">\n",
       "      <th></th>\n",
       "      <th>0</th>\n",
       "      <th>1</th>\n",
       "      <th>2</th>\n",
       "      <th>3</th>\n",
       "      <th>4</th>\n",
       "      <th>5</th>\n",
       "      <th>6</th>\n",
       "      <th>7</th>\n",
       "      <th>8</th>\n",
       "      <th>9</th>\n",
       "      <th>10</th>\n",
       "      <th>11</th>\n",
       "      <th>12</th>\n",
       "    </tr>\n",
       "  </thead>\n",
       "  <tbody>\n",
       "    <tr>\n",
       "      <th>0</th>\n",
       "      <td>299.875</td>\n",
       "      <td>134.053</td>\n",
       "      <td>286.550</td>\n",
       "      <td>138.837</td>\n",
       "      <td>1</td>\n",
       "      <td>0</td>\n",
       "      <td>0</td>\n",
       "      <td>0</td>\n",
       "      <td>0</td>\n",
       "      <td>0</td>\n",
       "      <td>0</td>\n",
       "      <td>0</td>\n",
       "      <td>0</td>\n",
       "    </tr>\n",
       "    <tr>\n",
       "      <th>1</th>\n",
       "      <td>298.537</td>\n",
       "      <td>135.013</td>\n",
       "      <td>280.650</td>\n",
       "      <td>138.206</td>\n",
       "      <td>1</td>\n",
       "      <td>0</td>\n",
       "      <td>0</td>\n",
       "      <td>0</td>\n",
       "      <td>0</td>\n",
       "      <td>0</td>\n",
       "      <td>0</td>\n",
       "      <td>0</td>\n",
       "      <td>0</td>\n",
       "    </tr>\n",
       "    <tr>\n",
       "      <th>2</th>\n",
       "      <td>295.098</td>\n",
       "      <td>135.445</td>\n",
       "      <td>301.397</td>\n",
       "      <td>139.940</td>\n",
       "      <td>1</td>\n",
       "      <td>0</td>\n",
       "      <td>0</td>\n",
       "      <td>0</td>\n",
       "      <td>0</td>\n",
       "      <td>0</td>\n",
       "      <td>0</td>\n",
       "      <td>0</td>\n",
       "      <td>0</td>\n",
       "    </tr>\n",
       "    <tr>\n",
       "      <th>3</th>\n",
       "      <td>294.603</td>\n",
       "      <td>132.883</td>\n",
       "      <td>302.374</td>\n",
       "      <td>138.732</td>\n",
       "      <td>1</td>\n",
       "      <td>0</td>\n",
       "      <td>0</td>\n",
       "      <td>0</td>\n",
       "      <td>0</td>\n",
       "      <td>0</td>\n",
       "      <td>0</td>\n",
       "      <td>0</td>\n",
       "      <td>0</td>\n",
       "    </tr>\n",
       "    <tr>\n",
       "      <th>4</th>\n",
       "      <td>292.741</td>\n",
       "      <td>132.936</td>\n",
       "      <td>301.714</td>\n",
       "      <td>139.080</td>\n",
       "      <td>1</td>\n",
       "      <td>0</td>\n",
       "      <td>0</td>\n",
       "      <td>0</td>\n",
       "      <td>0</td>\n",
       "      <td>0</td>\n",
       "      <td>0</td>\n",
       "      <td>0</td>\n",
       "      <td>0</td>\n",
       "    </tr>\n",
       "  </tbody>\n",
       "</table>\n",
       "</div>"
      ],
      "text/plain": [
       "        0        1        2        3   4   5   6   7   8   9   10  11  12\n",
       "0  299.875  134.053  286.550  138.837   1   0   0   0   0   0   0   0   0\n",
       "1  298.537  135.013  280.650  138.206   1   0   0   0   0   0   0   0   0\n",
       "2  295.098  135.445  301.397  139.940   1   0   0   0   0   0   0   0   0\n",
       "3  294.603  132.883  302.374  138.732   1   0   0   0   0   0   0   0   0\n",
       "4  292.741  132.936  301.714  139.080   1   0   0   0   0   0   0   0   0"
      ]
     },
     "execution_count": 2,
     "metadata": {},
     "output_type": "execute_result"
    }
   ],
   "source": [
    "with open('data/posture_train.txt', 'r') as train_file:\n",
    "    train_df = pd.read_csv(train_file, header=None, delim_whitespace=True)\n",
    "train_df.head()"
   ]
  },
  {
   "cell_type": "code",
   "execution_count": 3,
   "metadata": {
    "collapsed": false
   },
   "outputs": [
    {
     "data": {
      "text/html": [
       "<div>\n",
       "<table border=\"1\" class=\"dataframe\">\n",
       "  <thead>\n",
       "    <tr style=\"text-align: right;\">\n",
       "      <th></th>\n",
       "      <th>0</th>\n",
       "      <th>1</th>\n",
       "      <th>2</th>\n",
       "      <th>3</th>\n",
       "      <th>4</th>\n",
       "      <th>5</th>\n",
       "      <th>6</th>\n",
       "      <th>7</th>\n",
       "      <th>8</th>\n",
       "      <th>9</th>\n",
       "      <th>10</th>\n",
       "      <th>11</th>\n",
       "      <th>12</th>\n",
       "    </tr>\n",
       "  </thead>\n",
       "  <tbody>\n",
       "    <tr>\n",
       "      <th>0</th>\n",
       "      <td>250.861</td>\n",
       "      <td>143.703</td>\n",
       "      <td>243.304</td>\n",
       "      <td>128.988</td>\n",
       "      <td>1</td>\n",
       "      <td>0</td>\n",
       "      <td>0</td>\n",
       "      <td>0</td>\n",
       "      <td>0</td>\n",
       "      <td>0</td>\n",
       "      <td>0</td>\n",
       "      <td>0</td>\n",
       "      <td>0</td>\n",
       "    </tr>\n",
       "    <tr>\n",
       "      <th>1</th>\n",
       "      <td>255.713</td>\n",
       "      <td>144.294</td>\n",
       "      <td>255.273</td>\n",
       "      <td>128.942</td>\n",
       "      <td>1</td>\n",
       "      <td>0</td>\n",
       "      <td>0</td>\n",
       "      <td>0</td>\n",
       "      <td>0</td>\n",
       "      <td>0</td>\n",
       "      <td>0</td>\n",
       "      <td>0</td>\n",
       "      <td>0</td>\n",
       "    </tr>\n",
       "    <tr>\n",
       "      <th>2</th>\n",
       "      <td>260.364</td>\n",
       "      <td>144.587</td>\n",
       "      <td>269.875</td>\n",
       "      <td>129.379</td>\n",
       "      <td>1</td>\n",
       "      <td>0</td>\n",
       "      <td>0</td>\n",
       "      <td>0</td>\n",
       "      <td>0</td>\n",
       "      <td>0</td>\n",
       "      <td>0</td>\n",
       "      <td>0</td>\n",
       "      <td>0</td>\n",
       "    </tr>\n",
       "    <tr>\n",
       "      <th>3</th>\n",
       "      <td>265.968</td>\n",
       "      <td>146.152</td>\n",
       "      <td>274.700</td>\n",
       "      <td>129.021</td>\n",
       "      <td>1</td>\n",
       "      <td>0</td>\n",
       "      <td>0</td>\n",
       "      <td>0</td>\n",
       "      <td>0</td>\n",
       "      <td>0</td>\n",
       "      <td>0</td>\n",
       "      <td>0</td>\n",
       "      <td>0</td>\n",
       "    </tr>\n",
       "    <tr>\n",
       "      <th>4</th>\n",
       "      <td>257.903</td>\n",
       "      <td>153.688</td>\n",
       "      <td>281.335</td>\n",
       "      <td>128.726</td>\n",
       "      <td>1</td>\n",
       "      <td>0</td>\n",
       "      <td>0</td>\n",
       "      <td>0</td>\n",
       "      <td>0</td>\n",
       "      <td>0</td>\n",
       "      <td>0</td>\n",
       "      <td>0</td>\n",
       "      <td>0</td>\n",
       "    </tr>\n",
       "  </tbody>\n",
       "</table>\n",
       "</div>"
      ],
      "text/plain": [
       "        0        1        2        3   4   5   6   7   8   9   10  11  12\n",
       "0  250.861  143.703  243.304  128.988   1   0   0   0   0   0   0   0   0\n",
       "1  255.713  144.294  255.273  128.942   1   0   0   0   0   0   0   0   0\n",
       "2  260.364  144.587  269.875  129.379   1   0   0   0   0   0   0   0   0\n",
       "3  265.968  146.152  274.700  129.021   1   0   0   0   0   0   0   0   0\n",
       "4  257.903  153.688  281.335  128.726   1   0   0   0   0   0   0   0   0"
      ]
     },
     "execution_count": 3,
     "metadata": {},
     "output_type": "execute_result"
    }
   ],
   "source": [
    "with open('data/posture_test.txt', 'r') as test_file:\n",
    "    test_df = pd.read_csv(test_file, header=None, delim_whitespace=True)\n",
    "test_df.head()"
   ]
  },
  {
   "cell_type": "code",
   "execution_count": 7,
   "metadata": {
    "collapsed": false
   },
   "outputs": [
    {
     "data": {
      "text/plain": [
       "array([ 299.875,  134.053,  286.55 ,  138.837])"
      ]
     },
     "execution_count": 7,
     "metadata": {},
     "output_type": "execute_result"
    }
   ],
   "source": [
    "#train data\n",
    "x = []\n",
    "y = []\n",
    "for index, row in train_df.iterrows():\n",
    "    x.append(np.array(row[:4]))\n",
    "    y.append(np.array(row[4:]))\n",
    "x_train = np.array(x)\n",
    "y_train = np.array(y)"
   ]
  },
  {
   "cell_type": "code",
   "execution_count": 9,
   "metadata": {
    "collapsed": false
   },
   "outputs": [
    {
     "data": {
      "text/plain": [
       "array([ 1.,  0.,  0.,  0.,  0.,  0.,  0.,  0.,  0.])"
      ]
     },
     "execution_count": 9,
     "metadata": {},
     "output_type": "execute_result"
    }
   ],
   "source": [
    "#test data\n",
    "x = []\n",
    "y = []\n",
    "for index, row in test_df.iterrows():\n",
    "    x.append(np.array(row[:4]))\n",
    "    y.append(np.array(row[4:]))\n",
    "x_test = np.array(x)\n",
    "y_test = np.array(y)"
   ]
  },
  {
   "cell_type": "code",
   "execution_count": 10,
   "metadata": {
    "collapsed": true
   },
   "outputs": [],
   "source": [
    "#model\n",
    "model = Sequential()\n",
    "model.add(Dense(input_dim=4, output_dim=1000))\n",
    "model.add(Activation('sigmoid'))\n",
    "model.add(Dense(output_dim=1000))\n",
    "model.add(Activation('sigmoid'))\n",
    "model.add(Dense(output_dim=9))\n",
    "model.add(Activation('softmax'))\n",
    "\n",
    "model.compile(loss='categorical_crossentropy',\n",
    "              optimizer=Adam(),\n",
    "              metrics=['accuracy'])"
   ]
  },
  {
   "cell_type": "code",
   "execution_count": 11,
   "metadata": {
    "collapsed": false
   },
   "outputs": [
    {
     "name": "stdout",
     "output_type": "stream",
     "text": [
      "Epoch 1/10\n",
      "18000/18000 [==============================] - 1s - loss: 0.4042 - acc: 0.8766     \n",
      "Epoch 2/10\n",
      "18000/18000 [==============================] - 1s - loss: 0.1344 - acc: 0.9559     \n",
      "Epoch 3/10\n",
      "18000/18000 [==============================] - 1s - loss: 0.1117 - acc: 0.9614     \n",
      "Epoch 4/10\n",
      "18000/18000 [==============================] - 1s - loss: 0.0992 - acc: 0.9659     \n",
      "Epoch 5/10\n",
      "18000/18000 [==============================] - 1s - loss: 0.1084 - acc: 0.9617     \n",
      "Epoch 6/10\n",
      "18000/18000 [==============================] - 1s - loss: 0.0938 - acc: 0.9671     \n",
      "Epoch 7/10\n",
      "18000/18000 [==============================] - 1s - loss: 0.0816 - acc: 0.9706     \n",
      "Epoch 8/10\n",
      "18000/18000 [==============================] - 1s - loss: 0.0809 - acc: 0.9698     \n",
      "Epoch 9/10\n",
      "18000/18000 [==============================] - 1s - loss: 0.0757 - acc: 0.9716     \n",
      "Epoch 10/10\n",
      "18000/18000 [==============================] - 1s - loss: 0.0859 - acc: 0.9673     \n"
     ]
    },
    {
     "data": {
      "text/plain": [
       "<keras.callbacks.History at 0x1fc73ba8>"
      ]
     },
     "execution_count": 11,
     "metadata": {},
     "output_type": "execute_result"
    }
   ],
   "source": [
    "model.fit(x_train, y_train, batch_size=200, nb_epoch=10)"
   ]
  },
  {
   "cell_type": "code",
   "execution_count": 12,
   "metadata": {
    "collapsed": false
   },
   "outputs": [
    {
     "name": "stdout",
     "output_type": "stream",
     "text": [
      "Test score: 0.0738115009361\n",
      "Test accuracy: 96.49\n"
     ]
    }
   ],
   "source": [
    "score = model.evaluate(x_test, y_test, verbose=0)\n",
    "print('Test score:', score[0])\n",
    "print('Test accuracy:', round(score[1], 4)*100)"
   ]
  },
  {
   "cell_type": "code",
   "execution_count": 13,
   "metadata": {
    "collapsed": false
   },
   "outputs": [],
   "source": [
    "model_result = model.to_json()\n",
    "time = datetime.datetime.now().strftime(\"%Y%m%d%H%M%S\")\n",
    "accuracy = str(int(score[1]*10000))\n",
    "filename = 'model_{0}_acc{1}.json'.format(time, accuracy)\n",
    "with open('result/'+filename+'.json', 'w') as file:\n",
    "    file.write(model_result)\n",
    "model.save_weights('result/'+filename+'.h5')"
   ]
  },
  {
   "cell_type": "code",
   "execution_count": null,
   "metadata": {
    "collapsed": true
   },
   "outputs": [],
   "source": []
  }
 ],
 "metadata": {
  "anaconda-cloud": {},
  "kernelspec": {
   "display_name": "Python [default]",
   "language": "python",
   "name": "python3"
  },
  "language_info": {
   "codemirror_mode": {
    "name": "ipython",
    "version": 3
   },
   "file_extension": ".py",
   "mimetype": "text/x-python",
   "name": "python",
   "nbconvert_exporter": "python",
   "pygments_lexer": "ipython3",
   "version": "3.4.4"
  }
 },
 "nbformat": 4,
 "nbformat_minor": 0
}
